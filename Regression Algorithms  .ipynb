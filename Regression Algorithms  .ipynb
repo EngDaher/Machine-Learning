{
 "cells": [
  {
   "cell_type": "code",
   "execution_count": 1,
   "metadata": {},
   "outputs": [
    {
     "name": "stderr",
     "output_type": "stream",
     "text": [
      "C:\\Users\\nicol\\Anaconda3\\lib\\site-packages\\sklearn\\cross_validation.py:41: DeprecationWarning: This module was deprecated in version 0.18 in favor of the model_selection module into which all the refactored classes and functions are moved. Also note that the interface of the new CV iterators are different from that of this module. This module will be removed in 0.20.\n",
      "  \"This module will be removed in 0.20.\", DeprecationWarning)\n"
     ]
    },
    {
     "name": "stdout",
     "output_type": "stream",
     "text": [
      "              Open    High     Low    Close      Volume  Ex-Dividend  \\\n",
      "Date                                                                   \n",
      "2004-08-19  100.01  104.06   95.96  100.335  44659000.0          0.0   \n",
      "2004-08-20  101.01  109.08  100.50  108.310  22834300.0          0.0   \n",
      "2004-08-23  110.76  113.48  109.05  109.400  18256100.0          0.0   \n",
      "2004-08-24  111.24  111.60  103.57  104.870  15247300.0          0.0   \n",
      "2004-08-25  104.76  108.00  103.88  106.000   9188600.0          0.0   \n",
      "\n",
      "            Split Ratio  Adj. Open  Adj. High   Adj. Low  Adj. Close  \\\n",
      "Date                                                                   \n",
      "2004-08-19          1.0  50.159839  52.191109  48.128568   50.322842   \n",
      "2004-08-20          1.0  50.661387  54.708881  50.405597   54.322689   \n",
      "2004-08-23          1.0  55.551482  56.915693  54.693835   54.869377   \n",
      "2004-08-24          1.0  55.792225  55.972783  51.945350   52.597363   \n",
      "2004-08-25          1.0  52.542193  54.167209  52.100830   53.164113   \n",
      "\n",
      "            Adj. Volume  \n",
      "Date                     \n",
      "2004-08-19   44659000.0  \n",
      "2004-08-20   22834300.0  \n",
      "2004-08-23   18256100.0  \n",
      "2004-08-24   15247300.0  \n",
      "2004-08-25    9188600.0  \n"
     ]
    }
   ],
   "source": [
    "import pandas as pd\n",
    "import quandl as qd\n",
    "import math\n",
    "import numpy as np\n",
    "from sklearn import preprocessing, cross_validation, svm\n",
    "from sklearn.linear_model import LinearRegression\n",
    "\n",
    "\n",
    "df =qd.get(\"WIKI/GOOGL\")\n",
    "\n",
    "print(df.head())"
   ]
  },
  {
   "cell_type": "markdown",
   "metadata": {},
   "source": [
    "Como pode ser visto o stock market apresenta 12 features. Nesse ponto é imteressante se perguntar se todas elas são necessárias para a previsão, para checar isso é possível fazer alguns teste como são demonstrado abaixo\n"
   ]
  },
  {
   "cell_type": "code",
   "execution_count": 2,
   "metadata": {},
   "outputs": [
    {
     "name": "stdout",
     "output_type": "stream",
     "text": [
      "            Adj. Close  Hl_porcent  porcent_change  Adj. Volume\n",
      "Date                                                           \n",
      "2004-08-19   50.322842    3.712563        0.324968   44659000.0\n",
      "2004-08-20   54.322689    0.710922        7.227007   22834300.0\n",
      "2004-08-23   54.869377    3.729433       -1.227880   18256100.0\n",
      "2004-08-24   52.597363    6.417469       -5.726357   15247300.0\n",
      "2004-08-25   53.164113    1.886792        1.183658    9188600.0\n"
     ]
    }
   ],
   "source": [
    "df = df[[\"Adj. Open\",\"Adj. High\",\"Adj. Low\",\"Adj. Close\",\"Adj. Volume\"]]\n",
    "df[\"Hl_porcent\"] = (df[\"Adj. High\"]- df[\"Adj. Close\"])/df[\"Adj. Close\"]*100\n",
    "df[\"porcent_change\"] = (df[\"Adj. Close\"]- df[\"Adj. Open\"])/df[\"Adj. Open\"]*100\n",
    "df = df[[\"Adj. Close\",\"Hl_porcent\",\"porcent_change\",\"Adj. Volume\"]]\n",
    "\n",
    "print(df.head())"
   ]
  },
  {
   "cell_type": "code",
   "execution_count": 3,
   "metadata": {},
   "outputs": [
    {
     "name": "stdout",
     "output_type": "stream",
     "text": [
      "            Adj. Close  Hl_porcent  porcent_change  Adj. Volume    label\n",
      "Date                                                                    \n",
      "2018-03-15     1150.61    1.033365        0.090469    1623868.0  1094.00\n",
      "2018-03-16     1134.42    1.973696       -1.811572    2654602.0  1053.15\n",
      "2018-03-19     1100.07    1.754434       -1.582630    3076349.0  1026.55\n",
      "2018-03-20     1095.80    0.889761       -0.236708    2709310.0  1054.09\n",
      "2018-03-21     1094.00    1.343693        0.130884    1990515.0  1006.94\n"
     ]
    }
   ],
   "source": [
    "forecast_col = \"Adj. Close\" #Label para o valor do preço\n",
    "df.fillna(-99999, inplace = True) \n",
    "#not avaiable,pandas não trabalham com valores que não são números, então é interessante subistituir por um outlier\n",
    "#para não perder uma coluna\n",
    "\n",
    "forecast_out = int(math.ceil(0.001*len(df)))\n",
    "#math arredonda o valor, mas retorna como float. O interior do ceil é o número de dias que iremos prever\n",
    "\n",
    "df[\"label\"] = df[forecast_col].shift(-forecast_out)\n",
    "#permite mudar o nome da label, enquanto shift vai mover para cima o número de colunas para, assim cada linha será o valor de adj close\n",
    "df.dropna(inplace = True)\n",
    "print(df.tail())"
   ]
  },
  {
   "cell_type": "code",
   "execution_count": 4,
   "metadata": {},
   "outputs": [],
   "source": [
    "X = np.array(df.drop(['label'],1))#retorna o df\n",
    "\n",
    "X = preprocessing.scale(X)#Lembrar de escalonar os valores\n",
    "\n",
    "X_lately = X[-forecast_out:]\n",
    "\n",
    "\n",
    "\n",
    "y = np.array(df[\"label\"])\n",
    "df.dropna(inplace=True)\n",
    "\n",
    "\n",
    "X_train, X_test, y_train, y_test = cross_validation.train_test_split(X,y, test_size = 0.2)\n"
   ]
  },
  {
   "cell_type": "code",
   "execution_count": 10,
   "metadata": {},
   "outputs": [
    {
     "name": "stdout",
     "output_type": "stream",
     "text": [
      "Estamos medindo: 4 dias de antecedência com 0.9959977624220345 de acurácia\n"
     ]
    }
   ],
   "source": [
    "clf = LinearRegression(n_jobs=-1)#n_jobs é o número de treads que podem ser rodadas paralelamente(-1 excolhe pro n° maximo que a sua cpu consegue)\n",
    "clf.fit(X_train, y_train)\n",
    "accuracy = clf.score(X_test, y_test)\n",
    "print(\"Estamos medindo:\",forecast_out,\"dias de antecedência com\", accuracy,\"de acurácia\")"
   ]
  },
  {
   "cell_type": "code",
   "execution_count": 12,
   "metadata": {},
   "outputs": [
    {
     "name": "stdout",
     "output_type": "stream",
     "text": [
      "[1136.80437168 1102.28866073 1097.7460761  1096.44470668] 0.9959977624220345 4\n"
     ]
    }
   ],
   "source": [
    "#Realizando predições\n",
    "forecast_set = clf.predict(X_lately)\n",
    "print(forecast_set, accuracy, forecast_out)"
   ]
  },
  {
   "cell_type": "code",
   "execution_count": 18,
   "metadata": {},
   "outputs": [
    {
     "data": {
      "image/png": "[encoded data removed]",
      "text/plain": [
       "<Figure size 432x288 with 1 Axes>"
      ]
     },
     "metadata": {},
     "output_type": "display_data"
    }
   ],
   "source": [
    "import math, datetime\n",
    "import matplotlib.pyplot as plt\n",
    "from matplotlib import style\n",
    "\n",
    "style.use(\"ggplot\")\n",
    "\n",
    "df[\"Forecast\"] = np.nan\n",
    "last_date = df.iloc[-1].name\n",
    "last_unix = last_date.timestamp()\n",
    "one_day = 86400\n",
    "next_unix = last_unix + one_day\n",
    "for i in forecast_set:\n",
    "    next_date = datetime.datetime.fromtimestamp(next_unix)\n",
    "    next_unix += one_day\n",
    "    df.loc[next_date] = [np.nan for _ in range(len(df.columns)-1)] + [i]# add os valores novos na lista\n",
    "\n",
    "df[\"Adj. Close\"].plot()\n",
    "df['Forecast'].plot()\n",
    "plt.xlabel('Data')\n",
    "plt.ylabel(\"Preço\")\n",
    "plt.show()"
   ]
  },
  {
   "cell_type": "markdown",
   "metadata": {},
   "source": [
    "Utilizando outro algoritmo"
   ]
  },
  {
   "cell_type": "code",
   "execution_count": 7,
   "metadata": {},
   "outputs": [
    {
     "name": "stdout",
     "output_type": "stream",
     "text": [
      "Estamos medindo: 4 dias de antecedência com 0.8144425999723354 de acurácia\n"
     ]
    }
   ],
   "source": [
    "clf_svm = svm.SVR()\n",
    "clf_svm.fit(X_train, y_train)\n",
    "accuracy = clf_svm.score(X_test, y_test)\n",
    "print(\"Estamos medindo:\",forecast_out,\"dias de antecedência com\", accuracy,\"de acurácia\")"
   ]
  },
  {
   "cell_type": "code",
   "execution_count": 8,
   "metadata": {},
   "outputs": [
    {
     "name": "stdout",
     "output_type": "stream",
     "text": [
      "Estamos medindo: 4 dias de antecedência com 0.5504501207009354 de acurácia\n"
     ]
    }
   ],
   "source": [
    "clf_svm = svm.SVR(kernel = \"poly\")\n",
    "clf_svm.fit(X_train, y_train)\n",
    "accuracy = clf_svm.score(X_test, y_test)\n",
    "print(\"Estamos medindo:\",forecast_out,\"dias de antecedência com\", accuracy,\"de acurácia\")"
   ]
  },
  {
   "cell_type": "code",
   "execution_count": null,
   "metadata": {},
   "outputs": [],
   "source": []
  }
 ],
 "metadata": {
  "kernelspec": {
   "display_name": "Python 3",
   "language": "python",
   "name": "python3"
  },
  "language_info": {
   "codemirror_mode": {
    "name": "ipython",
    "version": 3
   },
   "file_extension": ".py",
   "mimetype": "text/x-python",
   "name": "python",
   "nbconvert_exporter": "python",
   "pygments_lexer": "ipython3",
   "version": "3.6.5"
  }
 },
 "nbformat": 4,
 "nbformat_minor": 2
}
