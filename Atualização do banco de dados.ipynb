{
 "cells": [
  {
   "cell_type": "markdown",
   "metadata": {},
   "source": [
    "# Atualização do Banco de dados"
   ]
  },
  {
   "cell_type": "code",
   "execution_count": 74,
   "metadata": {},
   "outputs": [],
   "source": [
    "import requests\n",
    "r=requests.get(\"https://finance.yahoo.com/quote/FB/history/\")"
   ]
  },
  {
   "cell_type": "code",
   "execution_count": 3,
   "metadata": {},
   "outputs": [
    {
     "name": "stdout",
     "output_type": "stream",
     "text": [
      "<!DOCTYPE html><html id=\"atomic\" class=\"NoJs featurephone\" lang=\"en-US\"><head prefix=\"og: http://ogp.me/ns#\"><script>window.performance && window.performance.mark && window.performance.mark('PageStart');</script><meta charset=\"utf-8\"/><title>Facebook, Inc. (FB) Stock Historical Prices &amp; Data</title><meta name=\"keywords\" content=\"FB, Facebook, Inc., FB historical prices, Facebook, Inc. historical prices, historical prices, stocks, quotes, finance\"/><meta http-equiv=\"x-dns-prefetch-control\" co\n"
     ]
    }
   ],
   "source": [
    "print(r.text[0:500])"
   ]
  },
  {
   "cell_type": "code",
   "execution_count": 75,
   "metadata": {},
   "outputs": [],
   "source": [
    "from bs4 import BeautifulSoup as bs\n",
    "soup=bs(r.text,\"html.parser\")"
   ]
  },
  {
   "cell_type": "code",
   "execution_count": 76,
   "metadata": {},
   "outputs": [
    {
     "name": "stdout",
     "output_type": "stream",
     "text": [
      "([<span data-reactid=\"66\">Apr 25, 2019</span>], [<span data-reactid=\"68\">196.98</span>], [<span data-reactid=\"70\">198.48</span>], [<span data-reactid=\"72\">192.12</span>], [<span data-reactid=\"74\">193.26</span>], [<span data-reactid=\"76\">193.26</span>], [<span data-reactid=\"78\">54,148,800</span>])\n"
     ]
    }
   ],
   "source": [
    "def FbStock():\n",
    "    results_date = soup.find_all('span', attrs={'data-reactid':66})\n",
    "    results_open = soup.find_all('span', attrs={'data-reactid':68})\n",
    "    results_high = soup.find_all('span', attrs={'data-reactid':70})\n",
    "    results_low = soup.find_all('span', attrs={'data-reactid':72})\n",
    "    results_close = soup.find_all('span', attrs={'data-reactid':74})\n",
    "    results_adj_close = soup.find_all('span', attrs={'data-reactid':76})\n",
    "    results_volume = soup.find_all('span', attrs={'data-reactid':78})\n",
    "    return results_date, results_open, results_high, results_low, results_close, results_adj_close, results_volume\n",
    "print(FbStock())"
   ]
  },
  {
   "cell_type": "code",
   "execution_count": 70,
   "metadata": {},
   "outputs": [
    {
     "name": "stdout",
     "output_type": "stream",
     "text": [
      "Apr 25, 2019\n"
     ]
    }
   ],
   "source": [
    "lista=FbStock()\n",
    "price=lista[1][0].contents\n",
    "type(price[0])\n",
    "print(price[0])"
   ]
  },
  {
   "cell_type": "code",
   "execution_count": 78,
   "metadata": {},
   "outputs": [
    {
     "name": "stdout",
     "output_type": "stream",
     "text": [
      "['196.98']\n"
     ]
    }
   ],
   "source": [
    "date=lista[0][0].contents\n",
    "type(date[0])\n",
    "print(date)"
   ]
  },
  {
   "cell_type": "code",
   "execution_count": 91,
   "metadata": {},
   "outputs": [
    {
     "ename": "FileNotFoundError",
     "evalue": "[Errno 2] No such file or directory: 'Users\\\\nicol\\\\OneDrive\\\\Área de Trabalho\\\\IC\\\\FB.csv'",
     "output_type": "error",
     "traceback": [
      "\u001b[1;31m---------------------------------------------------------------------------\u001b[0m",
      "\u001b[1;31mFileNotFoundError\u001b[0m                         Traceback (most recent call last)",
      "\u001b[1;32m<ipython-input-91-2c7be3b51de1>\u001b[0m in \u001b[0;36m<module>\u001b[1;34m()\u001b[0m\n\u001b[0;32m      6\u001b[0m \u001b[0mtemp_file\u001b[0m \u001b[1;33m=\u001b[0m \u001b[0mNamedTemporaryFile\u001b[0m\u001b[1;33m(\u001b[0m\u001b[0mdelete\u001b[0m\u001b[1;33m=\u001b[0m\u001b[1;32mFalse\u001b[0m\u001b[1;33m)\u001b[0m\u001b[1;33m\u001b[0m\u001b[0m\n\u001b[0;32m      7\u001b[0m \u001b[1;33m\u001b[0m\u001b[0m\n\u001b[1;32m----> 8\u001b[1;33m \u001b[1;32mwith\u001b[0m \u001b[0mopen\u001b[0m\u001b[1;33m(\u001b[0m\u001b[0mfilename\u001b[0m\u001b[1;33m,\u001b[0m\u001b[1;34m\"rb\"\u001b[0m\u001b[1;33m)\u001b[0m \u001b[1;32mas\u001b[0m \u001b[0mcsvfile\u001b[0m\u001b[1;33m,\u001b[0m \u001b[0mtemp_file\u001b[0m\u001b[1;33m:\u001b[0m\u001b[1;33m\u001b[0m\u001b[0m\n\u001b[0m\u001b[0;32m      9\u001b[0m     \u001b[0mreader\u001b[0m\u001b[1;33m=\u001b[0m\u001b[0mcsv\u001b[0m\u001b[1;33m.\u001b[0m\u001b[0mDictReader\u001b[0m\u001b[1;33m(\u001b[0m\u001b[0mcsvfile\u001b[0m\u001b[1;33m)\u001b[0m\u001b[1;33m\u001b[0m\u001b[0m\n\u001b[0;32m     10\u001b[0m     \u001b[0mfieldname\u001b[0m \u001b[1;33m=\u001b[0m \u001b[1;33m[\u001b[0m\u001b[1;34m\"Date\"\u001b[0m\u001b[1;33m,\u001b[0m\u001b[1;34m\"Open\"\u001b[0m\u001b[1;33m,\u001b[0m\u001b[1;34m\"High\"\u001b[0m\u001b[1;33m,\u001b[0m\u001b[1;34m\"Low\"\u001b[0m\u001b[1;33m,\u001b[0m\u001b[1;34m\"Close\"\u001b[0m\u001b[1;33m,\u001b[0m\u001b[1;34m\"Adj Close\"\u001b[0m\u001b[1;33m,\u001b[0m\u001b[1;34m\"Volume\"\u001b[0m\u001b[1;33m]\u001b[0m\u001b[1;33m\u001b[0m\u001b[0m\n",
      "\u001b[1;31mFileNotFoundError\u001b[0m: [Errno 2] No such file or directory: 'Users\\\\nicol\\\\OneDrive\\\\Área de Trabalho\\\\IC\\\\FB.csv'"
     ]
    }
   ],
   "source": [
    "import csv\n",
    "import shutil\n",
    "from tempfile import NamedTemporaryFile\n",
    "\n",
    "filename = r'C:\\Users\\nicol\\OneDrive\\Área de Trabalho\\IC\\FB.csv'\n",
    "temp_file = NamedTemporaryFile(delete=False)\n",
    "\n",
    "with open(filename,\"rb\") as csvfile, temp_file:\n",
    "    reader=csv.DictReader(csvfile)\n",
    "    fieldname = [\"Date\",\"Open\",\"High\",\"Low\",\"Close\",\"Adj Close\",\"Volume\"]\n",
    "    writer = csv.DictWriter(temp_file, fieldnames = fildnames)\n",
    "    writer.writeheader()\n",
    "    \n",
    "    for row in reader:\n",
    "        print(row)\n",
    "        writer.writerow({\n",
    "            \"Date\":row[\"Date\"],\n",
    "            \"Open\":row[\"Open\"],\n",
    "            \"High\":row[\"High\"],\n",
    "            \"Low\":row[\"Low\"],\n",
    "            \"Close\":row[\"Close\"],\n",
    "            \"Adj Close\":row[\"Adj Close\"],\n",
    "            \"Volume\":row[\"Volume\"]\n",
    "            \n",
    "        })\n",
    "# shutil.move(temp_file.name, filename)\n",
    "    \n"
   ]
  }
 ],
 "metadata": {
  "kernelspec": {
   "display_name": "Python 3",
   "language": "python",
   "name": "python3"
  },
  "language_info": {
   "codemirror_mode": {
    "name": "ipython",
    "version": 3
   },
   "file_extension": ".py",
   "mimetype": "text/x-python",
   "name": "python",
   "nbconvert_exporter": "python",
   "pygments_lexer": "ipython3",
   "version": "3.6.5"
  }
 },
 "nbformat": 4,
 "nbformat_minor": 2
}
