{
 "cells": [
  {
   "cell_type": "markdown",
   "metadata": {},
   "source": [
    "# Atualização do Banco de dados"
   ]
  },
  {
   "cell_type": "code",
   "execution_count": 4,
   "metadata": {},
   "outputs": [],
   "source": [
    "import requests\n",
    "r=requests.get(\"https://finance.yahoo.com/quote/FB/history/\")"
   ]
  },
  {
   "cell_type": "code",
   "execution_count": 6,
   "metadata": {},
   "outputs": [
    {
     "name": "stdout",
     "output_type": "stream",
     "text": [
      "<!DOCTYPE html><html id=\"atomic\" class=\"NoJs featurephone\" lang=\"en-US\"><head prefix=\"og: http://ogp.me/ns#\"><script>window.performance && window.performance.mark && window.performance.mark('PageStart');</script><meta charset=\"utf-8\"/><title>Facebook, Inc. (FB) Stock Historical Prices &amp; Data</title><meta name=\"keywords\" content=\"FB, Facebook, Inc., FB historical prices, Facebook, Inc. historical prices, historical prices, stocks, quotes, finance\"/><meta http-equiv=\"x-dns-prefetch-control\" co\n"
     ]
    }
   ],
   "source": [
    "print(r.text[0:500])"
   ]
  },
  {
   "cell_type": "code",
   "execution_count": 11,
   "metadata": {},
   "outputs": [],
   "source": [
    "from bs4 import BeautifulSoup as bs\n",
    "soup=bs(r.text,\"html.parser\")"
   ]
  },
  {
   "cell_type": "code",
   "execution_count": 33,
   "metadata": {},
   "outputs": [
    {
     "name": "stdout",
     "output_type": "stream",
     "text": [
      "[<span data-reactid=\"51\">Apr 09, 2019</span>] 51\n",
      "[<span data-reactid=\"53\">175.62</span>] 53\n",
      "[<span data-reactid=\"55\">179.19</span>] 55\n",
      "[<span data-reactid=\"57\">175.55</span>] 57\n",
      "[<span data-reactid=\"59\">177.58</span>] 59\n",
      "[<span data-reactid=\"61\">177.58</span>] 61\n",
      "[<span data-reactid=\"63\">17,172,798</span>] 63\n"
     ]
    },
    {
     "data": {
      "text/plain": [
       "[[<span data-reactid=\"51\">Apr 09, 2019</span>],\n",
       " [<span data-reactid=\"53\">175.62</span>],\n",
       " [<span data-reactid=\"55\">179.19</span>],\n",
       " [<span data-reactid=\"57\">175.55</span>],\n",
       " [<span data-reactid=\"59\">177.58</span>],\n",
       " [<span data-reactid=\"61\">177.58</span>],\n",
       " [<span data-reactid=\"63\">17,172,798</span>]]"
      ]
     },
     "execution_count": 33,
     "metadata": {},
     "output_type": "execute_result"
    }
   ],
   "source": [
    "lista=[]\n",
    "c=51\n",
    "while(c<64):\n",
    "    d=str(c)\n",
    "    results = soup.find_all('span', attrs={'data-reactid':d})\n",
    "    c=c+2\n",
    "    lista.append(results)\n",
    "lista"
   ]
  }
 ],
 "metadata": {
  "kernelspec": {
   "display_name": "Python 3",
   "language": "python",
   "name": "python3"
  },
  "language_info": {
   "codemirror_mode": {
    "name": "ipython",
    "version": 3
   },
   "file_extension": ".py",
   "mimetype": "text/x-python",
   "name": "python",
   "nbconvert_exporter": "python",
   "pygments_lexer": "ipython3",
   "version": "3.6.5"
  }
 },
 "nbformat": 4,
 "nbformat_minor": 2
}
